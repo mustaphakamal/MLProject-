{
  "nbformat": 4,
  "nbformat_minor": 0,
  "metadata": {
    "colab": {
      "name": "Group6_BrownGazelles_Milestone_1.ipynb",
      "provenance": [],
      "collapsed_sections": [],
      "include_colab_link": true
    },
    "kernelspec": {
      "name": "python3",
      "display_name": "Python 3"
    },
    "language_info": {
      "name": "python"
    }
  },
  "cells": [
    {
      "cell_type": "markdown",
      "metadata": {
        "id": "view-in-github",
        "colab_type": "text"
      },
      "source": [
        "<a href=\"https://colab.research.google.com/github/mustaphakamal/MLProject-/blob/main/Group6_BrownGazelles_Milestone_1.ipynb\" target=\"_parent\"><img src=\"https://colab.research.google.com/assets/colab-badge.svg\" alt=\"Open In Colab\"/></a>"
      ]
    },
    {
      "cell_type": "markdown",
      "metadata": {
        "id": "6YMYgAy6ND_G"
      },
      "source": [
        "**Group 6 (Marina & Feras) - Option A - Sentiment Analysis - Amazon Musical Instruments**\n",
        "\n",
        "***Option A - Sentiment Analysis***\n",
        "\n",
        "Columns below:\n",
        "\n",
        "**marketplace**: Identifies **the** country or market the reviews are from.\n",
        "\n",
        "\n",
        "**customer_id**: Identifies a unique ID number assigned to a customer.\n",
        "\n",
        "\n",
        "**review_id**: Identifies a unique number assigned to each review.\n",
        "\n",
        "\n",
        "**product_id**: Identifies a unique number assigned to each product.\n",
        "\n",
        "\n",
        "**product_parent**: Identifies reviews for the same product.\n",
        "\n",
        "\n",
        "**product_title**: Identifies the product's brand name and model number for each model.\n",
        "\n",
        "\n",
        "**product_category**: Identifies the category for the product.\n",
        "\n",
        "\n",
        "**star_rating**: Identifies the rating for each product and model (1 being the lowest rating, and 5 being the highest rating).\n",
        "\n",
        "\n",
        "**helpful_votes**: Identifies the numeber of helpful votes.\n",
        "\n",
        "\n",
        "**total_votes**: Identifies number of total votes reviewed.\n",
        "\n",
        "\n",
        "**vine**: Review was written as part of the Vine program (from the most trusted reviewers on Amazon).\n",
        "\n",
        "\n",
        "**verified_purchase**: The review is on a verified purchase.\n",
        "\n",
        "\n",
        "**review_headline**: The title of the review.\n",
        "\n",
        "\n",
        "**review_body**: Identifies the qualitative part of the review, written directly by the customers.\n",
        "\n",
        "\n",
        "**review_date**: Identifies the date the review was written."
      ]
    },
    {
      "cell_type": "code",
      "metadata": {
        "id": "vvkIyHOvOhX8"
      },
      "source": [
        "#Import Libraries\n",
        "import pandas as pd"
      ],
      "execution_count": null,
      "outputs": []
    },
    {
      "cell_type": "code",
      "metadata": {
        "colab": {
          "base_uri": "https://localhost:8080/"
        },
        "id": "u8VjRJyJE8gi",
        "outputId": "ce645c44-d229-4ba6-d89d-c42f92421475"
      },
      "source": [
        "#Download product reviews from Amazonn Data sets - we chose Musical Instruments\n",
        "!curl -O https://s3.amazonaws.com/amazon-reviews-pds/tsv/amazon_reviews_us_Musical_Instruments_v1_00.tsv.gz"
      ],
      "execution_count": null,
      "outputs": [
        {
          "output_type": "stream",
          "text": [
            "  % Total    % Received % Xferd  Average Speed   Time    Time     Time  Current\n",
            "                                 Dload  Upload   Total   Spent    Left  Speed\n",
            "100  184M  100  184M    0     0  34.4M      0  0:00:05  0:00:05 --:--:-- 38.3M\n"
          ],
          "name": "stdout"
        }
      ]
    },
    {
      "cell_type": "code",
      "metadata": {
        "id": "dGWBuyFaHeQq",
        "colab": {
          "base_uri": "https://localhost:8080/"
        },
        "outputId": "6ca13d56-2b2c-4612-b7d4-9e80d75bff94"
      },
      "source": [
        "!ls"
      ],
      "execution_count": null,
      "outputs": [
        {
          "output_type": "stream",
          "text": [
            "amazon_reviews_us_Musical_Instruments_v1_00.tsv.gz  sample_data\n"
          ],
          "name": "stdout"
        }
      ]
    },
    {
      "cell_type": "code",
      "metadata": {
        "id": "S2-OvmhcHoJ1"
      },
      "source": [
        "#Read the content of the data set\n",
        "!echo \"y\" | gzip -d amazon_reviews_us_Musical_Instruments_v1_00.tsv.gz"
      ],
      "execution_count": null,
      "outputs": []
    },
    {
      "cell_type": "code",
      "metadata": {
        "id": "0qXXYZwPJXUv"
      },
      "source": [
        "#Create/Assign the Dataset\n",
        "df = pd.read_table('amazon_reviews_us_Musical_Instruments_v1_00.tsv', delim_whitespace=False, error_bad_lines=False, nrows=1000)\n"
      ],
      "execution_count": null,
      "outputs": []
    },
    {
      "cell_type": "code",
      "metadata": {
        "colab": {
          "base_uri": "https://localhost:8080/",
          "height": 462
        },
        "id": "PM9AL7xdMw8M",
        "outputId": "1398190a-254b-43dd-ba96-86c2ee904452"
      },
      "source": [
        "#Check the Dataset (1)\n",
        "df.head()"
      ],
      "execution_count": null,
      "outputs": [
        {
          "output_type": "execute_result",
          "data": {
            "text/html": [
              "<div>\n",
              "<style scoped>\n",
              "    .dataframe tbody tr th:only-of-type {\n",
              "        vertical-align: middle;\n",
              "    }\n",
              "\n",
              "    .dataframe tbody tr th {\n",
              "        vertical-align: top;\n",
              "    }\n",
              "\n",
              "    .dataframe thead th {\n",
              "        text-align: right;\n",
              "    }\n",
              "</style>\n",
              "<table border=\"1\" class=\"dataframe\">\n",
              "  <thead>\n",
              "    <tr style=\"text-align: right;\">\n",
              "      <th></th>\n",
              "      <th>marketplace</th>\n",
              "      <th>customer_id</th>\n",
              "      <th>review_id</th>\n",
              "      <th>product_id</th>\n",
              "      <th>product_parent</th>\n",
              "      <th>product_title</th>\n",
              "      <th>product_category</th>\n",
              "      <th>star_rating</th>\n",
              "      <th>helpful_votes</th>\n",
              "      <th>total_votes</th>\n",
              "      <th>vine</th>\n",
              "      <th>verified_purchase</th>\n",
              "      <th>review_headline</th>\n",
              "      <th>review_body</th>\n",
              "      <th>review_date</th>\n",
              "    </tr>\n",
              "  </thead>\n",
              "  <tbody>\n",
              "    <tr>\n",
              "      <th>0</th>\n",
              "      <td>US</td>\n",
              "      <td>45610553</td>\n",
              "      <td>RMDCHWD0Y5OZ9</td>\n",
              "      <td>B00HH62VB6</td>\n",
              "      <td>618218723</td>\n",
              "      <td>AGPtek® 10 Isolated Output 9V 12V 18V Guitar P...</td>\n",
              "      <td>Musical Instruments</td>\n",
              "      <td>3</td>\n",
              "      <td>0</td>\n",
              "      <td>1</td>\n",
              "      <td>N</td>\n",
              "      <td>N</td>\n",
              "      <td>Three Stars</td>\n",
              "      <td>Works very good, but induces ALOT of noise.</td>\n",
              "      <td>2015-08-31</td>\n",
              "    </tr>\n",
              "    <tr>\n",
              "      <th>1</th>\n",
              "      <td>US</td>\n",
              "      <td>14640079</td>\n",
              "      <td>RZSL0BALIYUNU</td>\n",
              "      <td>B003LRN53I</td>\n",
              "      <td>986692292</td>\n",
              "      <td>Sennheiser HD203 Closed-Back DJ Headphones</td>\n",
              "      <td>Musical Instruments</td>\n",
              "      <td>5</td>\n",
              "      <td>0</td>\n",
              "      <td>0</td>\n",
              "      <td>N</td>\n",
              "      <td>Y</td>\n",
              "      <td>Five Stars</td>\n",
              "      <td>Nice headphones at a reasonable price.</td>\n",
              "      <td>2015-08-31</td>\n",
              "    </tr>\n",
              "    <tr>\n",
              "      <th>2</th>\n",
              "      <td>US</td>\n",
              "      <td>6111003</td>\n",
              "      <td>RIZR67JKUDBI0</td>\n",
              "      <td>B0006VMBHI</td>\n",
              "      <td>603261968</td>\n",
              "      <td>AudioQuest LP record clean brush</td>\n",
              "      <td>Musical Instruments</td>\n",
              "      <td>3</td>\n",
              "      <td>0</td>\n",
              "      <td>1</td>\n",
              "      <td>N</td>\n",
              "      <td>Y</td>\n",
              "      <td>Three Stars</td>\n",
              "      <td>removes dust. does not clean</td>\n",
              "      <td>2015-08-31</td>\n",
              "    </tr>\n",
              "    <tr>\n",
              "      <th>3</th>\n",
              "      <td>US</td>\n",
              "      <td>1546619</td>\n",
              "      <td>R27HL570VNL85F</td>\n",
              "      <td>B002B55TRG</td>\n",
              "      <td>575084461</td>\n",
              "      <td>Hohner Inc. 560BX-BF Special Twenty Harmonica</td>\n",
              "      <td>Musical Instruments</td>\n",
              "      <td>5</td>\n",
              "      <td>0</td>\n",
              "      <td>0</td>\n",
              "      <td>N</td>\n",
              "      <td>Y</td>\n",
              "      <td>I purchase these for a friend in return for pl...</td>\n",
              "      <td>I purchase these for a friend in return for pl...</td>\n",
              "      <td>2015-08-31</td>\n",
              "    </tr>\n",
              "    <tr>\n",
              "      <th>4</th>\n",
              "      <td>US</td>\n",
              "      <td>12222213</td>\n",
              "      <td>R34EBU9QDWJ1GD</td>\n",
              "      <td>B00N1YPXW2</td>\n",
              "      <td>165236328</td>\n",
              "      <td>Blue Yeti USB Microphone - Blackout Edition</td>\n",
              "      <td>Musical Instruments</td>\n",
              "      <td>5</td>\n",
              "      <td>0</td>\n",
              "      <td>0</td>\n",
              "      <td>N</td>\n",
              "      <td>Y</td>\n",
              "      <td>Five Stars</td>\n",
              "      <td>This is an awesome mic!</td>\n",
              "      <td>2015-08-31</td>\n",
              "    </tr>\n",
              "  </tbody>\n",
              "</table>\n",
              "</div>"
            ],
            "text/plain": [
              "  marketplace  ...  review_date\n",
              "0          US  ...   2015-08-31\n",
              "1          US  ...   2015-08-31\n",
              "2          US  ...   2015-08-31\n",
              "3          US  ...   2015-08-31\n",
              "4          US  ...   2015-08-31\n",
              "\n",
              "[5 rows x 15 columns]"
            ]
          },
          "metadata": {
            "tags": []
          },
          "execution_count": 6
        }
      ]
    },
    {
      "cell_type": "code",
      "metadata": {
        "colab": {
          "base_uri": "https://localhost:8080/",
          "height": 462
        },
        "id": "By9uo2I3MyzN",
        "outputId": "dd25fa57-ab79-48a5-b407-cd419266bb18"
      },
      "source": [
        "#Check the Dataset (2)\n",
        "df.tail()"
      ],
      "execution_count": null,
      "outputs": [
        {
          "output_type": "execute_result",
          "data": {
            "text/html": [
              "<div>\n",
              "<style scoped>\n",
              "    .dataframe tbody tr th:only-of-type {\n",
              "        vertical-align: middle;\n",
              "    }\n",
              "\n",
              "    .dataframe tbody tr th {\n",
              "        vertical-align: top;\n",
              "    }\n",
              "\n",
              "    .dataframe thead th {\n",
              "        text-align: right;\n",
              "    }\n",
              "</style>\n",
              "<table border=\"1\" class=\"dataframe\">\n",
              "  <thead>\n",
              "    <tr style=\"text-align: right;\">\n",
              "      <th></th>\n",
              "      <th>marketplace</th>\n",
              "      <th>customer_id</th>\n",
              "      <th>review_id</th>\n",
              "      <th>product_id</th>\n",
              "      <th>product_parent</th>\n",
              "      <th>product_title</th>\n",
              "      <th>product_category</th>\n",
              "      <th>star_rating</th>\n",
              "      <th>helpful_votes</th>\n",
              "      <th>total_votes</th>\n",
              "      <th>vine</th>\n",
              "      <th>verified_purchase</th>\n",
              "      <th>review_headline</th>\n",
              "      <th>review_body</th>\n",
              "      <th>review_date</th>\n",
              "    </tr>\n",
              "  </thead>\n",
              "  <tbody>\n",
              "    <tr>\n",
              "      <th>995</th>\n",
              "      <td>US</td>\n",
              "      <td>2463093</td>\n",
              "      <td>R260547RTKGO4J</td>\n",
              "      <td>B004X4UZB8</td>\n",
              "      <td>757819581</td>\n",
              "      <td>Rode Micro Boom Pole Telescopic Microphone Ext...</td>\n",
              "      <td>Musical Instruments</td>\n",
              "      <td>4</td>\n",
              "      <td>0</td>\n",
              "      <td>0</td>\n",
              "      <td>N</td>\n",
              "      <td>Y</td>\n",
              "      <td>Its OK</td>\n",
              "      <td>A little noisy when fully extended but not a b...</td>\n",
              "      <td>2015-08-31</td>\n",
              "    </tr>\n",
              "    <tr>\n",
              "      <th>996</th>\n",
              "      <td>US</td>\n",
              "      <td>22104665</td>\n",
              "      <td>RG7T7A61J9MQD</td>\n",
              "      <td>B0092LWHI6</td>\n",
              "      <td>106972836</td>\n",
              "      <td>1set BM-06 Locking Tune-o-matic Guitar Bridge ...</td>\n",
              "      <td>Musical Instruments</td>\n",
              "      <td>2</td>\n",
              "      <td>0</td>\n",
              "      <td>0</td>\n",
              "      <td>N</td>\n",
              "      <td>Y</td>\n",
              "      <td>Two Stars</td>\n",
              "      <td>Meh... When I saw it I decided not to put it o...</td>\n",
              "      <td>2015-08-31</td>\n",
              "    </tr>\n",
              "    <tr>\n",
              "      <th>997</th>\n",
              "      <td>US</td>\n",
              "      <td>40897975</td>\n",
              "      <td>R1KBNAVKXI60FI</td>\n",
              "      <td>B000A1BMLA</td>\n",
              "      <td>63687537</td>\n",
              "      <td>Universal Percussion Pro 4 DMC500 Nylon Standa...</td>\n",
              "      <td>Musical Instruments</td>\n",
              "      <td>5</td>\n",
              "      <td>0</td>\n",
              "      <td>0</td>\n",
              "      <td>N</td>\n",
              "      <td>Y</td>\n",
              "      <td>Five Stars</td>\n",
              "      <td>Great for storing drums!</td>\n",
              "      <td>2015-08-31</td>\n",
              "    </tr>\n",
              "    <tr>\n",
              "      <th>998</th>\n",
              "      <td>US</td>\n",
              "      <td>11699327</td>\n",
              "      <td>R6MLMX44ZKF29</td>\n",
              "      <td>B000ML4KT4</td>\n",
              "      <td>537770028</td>\n",
              "      <td>Ortofon Spherical Pro S Stylus</td>\n",
              "      <td>Musical Instruments</td>\n",
              "      <td>5</td>\n",
              "      <td>0</td>\n",
              "      <td>0</td>\n",
              "      <td>N</td>\n",
              "      <td>Y</td>\n",
              "      <td>Five Stars</td>\n",
              "      <td>Thank you for your timely delivery! I received...</td>\n",
              "      <td>2015-08-31</td>\n",
              "    </tr>\n",
              "    <tr>\n",
              "      <th>999</th>\n",
              "      <td>US</td>\n",
              "      <td>1708928</td>\n",
              "      <td>R37U5LU8X6EBFA</td>\n",
              "      <td>B009LL32B8</td>\n",
              "      <td>364913873</td>\n",
              "      <td>Acoustic Guitar Accessory Pack with Pick Holde...</td>\n",
              "      <td>Musical Instruments</td>\n",
              "      <td>5</td>\n",
              "      <td>0</td>\n",
              "      <td>0</td>\n",
              "      <td>N</td>\n",
              "      <td>Y</td>\n",
              "      <td>Five Stars</td>\n",
              "      <td>Perfect. Everything is as described</td>\n",
              "      <td>2015-08-31</td>\n",
              "    </tr>\n",
              "  </tbody>\n",
              "</table>\n",
              "</div>"
            ],
            "text/plain": [
              "    marketplace  ...  review_date\n",
              "995          US  ...   2015-08-31\n",
              "996          US  ...   2015-08-31\n",
              "997          US  ...   2015-08-31\n",
              "998          US  ...   2015-08-31\n",
              "999          US  ...   2015-08-31\n",
              "\n",
              "[5 rows x 15 columns]"
            ]
          },
          "metadata": {
            "tags": []
          },
          "execution_count": 7
        }
      ]
    },
    {
      "cell_type": "code",
      "metadata": {
        "colab": {
          "base_uri": "https://localhost:8080/",
          "height": 297
        },
        "id": "1TqSzW0IV1Ad",
        "outputId": "478375fb-7d61-46f6-a0ee-2a9138532c7e"
      },
      "source": [
        "#Check the Dataset (3)\n",
        "df.describe()"
      ],
      "execution_count": null,
      "outputs": [
        {
          "output_type": "execute_result",
          "data": {
            "text/html": [
              "<div>\n",
              "<style scoped>\n",
              "    .dataframe tbody tr th:only-of-type {\n",
              "        vertical-align: middle;\n",
              "    }\n",
              "\n",
              "    .dataframe tbody tr th {\n",
              "        vertical-align: top;\n",
              "    }\n",
              "\n",
              "    .dataframe thead th {\n",
              "        text-align: right;\n",
              "    }\n",
              "</style>\n",
              "<table border=\"1\" class=\"dataframe\">\n",
              "  <thead>\n",
              "    <tr style=\"text-align: right;\">\n",
              "      <th></th>\n",
              "      <th>customer_id</th>\n",
              "      <th>product_parent</th>\n",
              "      <th>star_rating</th>\n",
              "      <th>helpful_votes</th>\n",
              "      <th>total_votes</th>\n",
              "    </tr>\n",
              "  </thead>\n",
              "  <tbody>\n",
              "    <tr>\n",
              "      <th>count</th>\n",
              "      <td>1.000000e+03</td>\n",
              "      <td>1.000000e+03</td>\n",
              "      <td>1000.000000</td>\n",
              "      <td>1000.000000</td>\n",
              "      <td>1000.000000</td>\n",
              "    </tr>\n",
              "    <tr>\n",
              "      <th>mean</th>\n",
              "      <td>2.457006e+07</td>\n",
              "      <td>4.755987e+08</td>\n",
              "      <td>4.301000</td>\n",
              "      <td>0.594000</td>\n",
              "      <td>0.860000</td>\n",
              "    </tr>\n",
              "    <tr>\n",
              "      <th>std</th>\n",
              "      <td>1.675611e+07</td>\n",
              "      <td>2.883340e+08</td>\n",
              "      <td>1.232038</td>\n",
              "      <td>2.537243</td>\n",
              "      <td>3.101293</td>\n",
              "    </tr>\n",
              "    <tr>\n",
              "      <th>min</th>\n",
              "      <td>6.949300e+04</td>\n",
              "      <td>1.795492e+06</td>\n",
              "      <td>1.000000</td>\n",
              "      <td>0.000000</td>\n",
              "      <td>0.000000</td>\n",
              "    </tr>\n",
              "    <tr>\n",
              "      <th>25%</th>\n",
              "      <td>1.096511e+07</td>\n",
              "      <td>2.084465e+08</td>\n",
              "      <td>4.000000</td>\n",
              "      <td>0.000000</td>\n",
              "      <td>0.000000</td>\n",
              "    </tr>\n",
              "    <tr>\n",
              "      <th>50%</th>\n",
              "      <td>2.276876e+07</td>\n",
              "      <td>4.757526e+08</td>\n",
              "      <td>5.000000</td>\n",
              "      <td>0.000000</td>\n",
              "      <td>0.000000</td>\n",
              "    </tr>\n",
              "    <tr>\n",
              "      <th>75%</th>\n",
              "      <td>4.115280e+07</td>\n",
              "      <td>7.295131e+08</td>\n",
              "      <td>5.000000</td>\n",
              "      <td>0.000000</td>\n",
              "      <td>1.000000</td>\n",
              "    </tr>\n",
              "    <tr>\n",
              "      <th>max</th>\n",
              "      <td>5.309027e+07</td>\n",
              "      <td>9.998384e+08</td>\n",
              "      <td>5.000000</td>\n",
              "      <td>47.000000</td>\n",
              "      <td>61.000000</td>\n",
              "    </tr>\n",
              "  </tbody>\n",
              "</table>\n",
              "</div>"
            ],
            "text/plain": [
              "        customer_id  product_parent  star_rating  helpful_votes  total_votes\n",
              "count  1.000000e+03    1.000000e+03  1000.000000    1000.000000  1000.000000\n",
              "mean   2.457006e+07    4.755987e+08     4.301000       0.594000     0.860000\n",
              "std    1.675611e+07    2.883340e+08     1.232038       2.537243     3.101293\n",
              "min    6.949300e+04    1.795492e+06     1.000000       0.000000     0.000000\n",
              "25%    1.096511e+07    2.084465e+08     4.000000       0.000000     0.000000\n",
              "50%    2.276876e+07    4.757526e+08     5.000000       0.000000     0.000000\n",
              "75%    4.115280e+07    7.295131e+08     5.000000       0.000000     1.000000\n",
              "max    5.309027e+07    9.998384e+08     5.000000      47.000000    61.000000"
            ]
          },
          "metadata": {
            "tags": []
          },
          "execution_count": 8
        }
      ]
    },
    {
      "cell_type": "code",
      "metadata": {
        "colab": {
          "base_uri": "https://localhost:8080/"
        },
        "id": "6Kw-l_9WWFAn",
        "outputId": "36dc2f6d-1dd7-419d-e8af-8abb5aacefcc"
      },
      "source": [
        "#Check the Dataset (4)\n",
        "df.info()"
      ],
      "execution_count": null,
      "outputs": [
        {
          "output_type": "stream",
          "text": [
            "<class 'pandas.core.frame.DataFrame'>\n",
            "RangeIndex: 1000 entries, 0 to 999\n",
            "Data columns (total 15 columns):\n",
            " #   Column             Non-Null Count  Dtype \n",
            "---  ------             --------------  ----- \n",
            " 0   marketplace        1000 non-null   object\n",
            " 1   customer_id        1000 non-null   int64 \n",
            " 2   review_id          1000 non-null   object\n",
            " 3   product_id         1000 non-null   object\n",
            " 4   product_parent     1000 non-null   int64 \n",
            " 5   product_title      1000 non-null   object\n",
            " 6   product_category   1000 non-null   object\n",
            " 7   star_rating        1000 non-null   int64 \n",
            " 8   helpful_votes      1000 non-null   int64 \n",
            " 9   total_votes        1000 non-null   int64 \n",
            " 10  vine               1000 non-null   object\n",
            " 11  verified_purchase  1000 non-null   object\n",
            " 12  review_headline    1000 non-null   object\n",
            " 13  review_body        1000 non-null   object\n",
            " 14  review_date        1000 non-null   object\n",
            "dtypes: int64(5), object(10)\n",
            "memory usage: 117.3+ KB\n"
          ],
          "name": "stdout"
        }
      ]
    },
    {
      "cell_type": "code",
      "metadata": {
        "id": "N7y9LS84WgCT"
      },
      "source": [
        "#Drop unecessary columns\n",
        "df.drop(['marketplace', 'customer_id','review_id', 'product_id', 'product_parent', 'product_category'], axis=1, inplace=True)"
      ],
      "execution_count": null,
      "outputs": []
    },
    {
      "cell_type": "code",
      "metadata": {
        "colab": {
          "base_uri": "https://localhost:8080/",
          "height": 272
        },
        "id": "rrexIoW2Wp-h",
        "outputId": "b5400faf-0bd1-4aac-bee4-fe591315b9b4"
      },
      "source": [
        "#Check the Dataset, if unecessary columns are dropped\n",
        "df.head()"
      ],
      "execution_count": null,
      "outputs": [
        {
          "output_type": "execute_result",
          "data": {
            "text/html": [
              "<div>\n",
              "<style scoped>\n",
              "    .dataframe tbody tr th:only-of-type {\n",
              "        vertical-align: middle;\n",
              "    }\n",
              "\n",
              "    .dataframe tbody tr th {\n",
              "        vertical-align: top;\n",
              "    }\n",
              "\n",
              "    .dataframe thead th {\n",
              "        text-align: right;\n",
              "    }\n",
              "</style>\n",
              "<table border=\"1\" class=\"dataframe\">\n",
              "  <thead>\n",
              "    <tr style=\"text-align: right;\">\n",
              "      <th></th>\n",
              "      <th>product_title</th>\n",
              "      <th>star_rating</th>\n",
              "      <th>helpful_votes</th>\n",
              "      <th>total_votes</th>\n",
              "      <th>vine</th>\n",
              "      <th>verified_purchase</th>\n",
              "      <th>review_headline</th>\n",
              "      <th>review_body</th>\n",
              "      <th>review_date</th>\n",
              "    </tr>\n",
              "  </thead>\n",
              "  <tbody>\n",
              "    <tr>\n",
              "      <th>0</th>\n",
              "      <td>AGPtek® 10 Isolated Output 9V 12V 18V Guitar P...</td>\n",
              "      <td>3</td>\n",
              "      <td>0</td>\n",
              "      <td>1</td>\n",
              "      <td>N</td>\n",
              "      <td>N</td>\n",
              "      <td>Three Stars</td>\n",
              "      <td>Works very good, but induces ALOT of noise.</td>\n",
              "      <td>2015-08-31</td>\n",
              "    </tr>\n",
              "    <tr>\n",
              "      <th>1</th>\n",
              "      <td>Sennheiser HD203 Closed-Back DJ Headphones</td>\n",
              "      <td>5</td>\n",
              "      <td>0</td>\n",
              "      <td>0</td>\n",
              "      <td>N</td>\n",
              "      <td>Y</td>\n",
              "      <td>Five Stars</td>\n",
              "      <td>Nice headphones at a reasonable price.</td>\n",
              "      <td>2015-08-31</td>\n",
              "    </tr>\n",
              "    <tr>\n",
              "      <th>2</th>\n",
              "      <td>AudioQuest LP record clean brush</td>\n",
              "      <td>3</td>\n",
              "      <td>0</td>\n",
              "      <td>1</td>\n",
              "      <td>N</td>\n",
              "      <td>Y</td>\n",
              "      <td>Three Stars</td>\n",
              "      <td>removes dust. does not clean</td>\n",
              "      <td>2015-08-31</td>\n",
              "    </tr>\n",
              "    <tr>\n",
              "      <th>3</th>\n",
              "      <td>Hohner Inc. 560BX-BF Special Twenty Harmonica</td>\n",
              "      <td>5</td>\n",
              "      <td>0</td>\n",
              "      <td>0</td>\n",
              "      <td>N</td>\n",
              "      <td>Y</td>\n",
              "      <td>I purchase these for a friend in return for pl...</td>\n",
              "      <td>I purchase these for a friend in return for pl...</td>\n",
              "      <td>2015-08-31</td>\n",
              "    </tr>\n",
              "    <tr>\n",
              "      <th>4</th>\n",
              "      <td>Blue Yeti USB Microphone - Blackout Edition</td>\n",
              "      <td>5</td>\n",
              "      <td>0</td>\n",
              "      <td>0</td>\n",
              "      <td>N</td>\n",
              "      <td>Y</td>\n",
              "      <td>Five Stars</td>\n",
              "      <td>This is an awesome mic!</td>\n",
              "      <td>2015-08-31</td>\n",
              "    </tr>\n",
              "  </tbody>\n",
              "</table>\n",
              "</div>"
            ],
            "text/plain": [
              "                                       product_title  ...  review_date\n",
              "0  AGPtek® 10 Isolated Output 9V 12V 18V Guitar P...  ...   2015-08-31\n",
              "1         Sennheiser HD203 Closed-Back DJ Headphones  ...   2015-08-31\n",
              "2                   AudioQuest LP record clean brush  ...   2015-08-31\n",
              "3      Hohner Inc. 560BX-BF Special Twenty Harmonica  ...   2015-08-31\n",
              "4        Blue Yeti USB Microphone - Blackout Edition  ...   2015-08-31\n",
              "\n",
              "[5 rows x 9 columns]"
            ]
          },
          "metadata": {
            "tags": []
          },
          "execution_count": 11
        }
      ]
    },
    {
      "cell_type": "code",
      "metadata": {
        "id": "6SpvvzZzYy1c"
      },
      "source": [
        "#Convert 'vine' data type and one-hot encoding from (Y,N) to (1,0) respectively\n",
        "vineFlag = {\n",
        "    'N': 0,\n",
        "    'Y': 1\n",
        "}\n",
        "\n",
        "df['vine'] = df['vine'].map(vineFlag)"
      ],
      "execution_count": null,
      "outputs": []
    },
    {
      "cell_type": "code",
      "metadata": {
        "id": "ThQhw4YFXwLW"
      },
      "source": [
        "#Convert 'verified purchase' data type and one-hot encoding from (Y,N) to (1,0) respectively\n",
        "verifiedPurchaseFlag = {\n",
        "    'N': 0,\n",
        "    'Y': 1\n",
        "}\n",
        "\n",
        "df['verified_purchase'] = df['verified_purchase'].map(verifiedPurchaseFlag)"
      ],
      "execution_count": null,
      "outputs": []
    },
    {
      "cell_type": "code",
      "metadata": {
        "colab": {
          "base_uri": "https://localhost:8080/",
          "height": 272
        },
        "id": "r_TGbryzZJSp",
        "outputId": "b201672b-6433-4363-a8da-a0fb80d99e46"
      },
      "source": [
        "#Check the Dataset, specifically one-hot encoding\n",
        "df.head()"
      ],
      "execution_count": null,
      "outputs": [
        {
          "output_type": "execute_result",
          "data": {
            "text/html": [
              "<div>\n",
              "<style scoped>\n",
              "    .dataframe tbody tr th:only-of-type {\n",
              "        vertical-align: middle;\n",
              "    }\n",
              "\n",
              "    .dataframe tbody tr th {\n",
              "        vertical-align: top;\n",
              "    }\n",
              "\n",
              "    .dataframe thead th {\n",
              "        text-align: right;\n",
              "    }\n",
              "</style>\n",
              "<table border=\"1\" class=\"dataframe\">\n",
              "  <thead>\n",
              "    <tr style=\"text-align: right;\">\n",
              "      <th></th>\n",
              "      <th>product_title</th>\n",
              "      <th>star_rating</th>\n",
              "      <th>helpful_votes</th>\n",
              "      <th>total_votes</th>\n",
              "      <th>vine</th>\n",
              "      <th>verified_purchase</th>\n",
              "      <th>review_headline</th>\n",
              "      <th>review_body</th>\n",
              "      <th>review_date</th>\n",
              "    </tr>\n",
              "  </thead>\n",
              "  <tbody>\n",
              "    <tr>\n",
              "      <th>0</th>\n",
              "      <td>AGPtek® 10 Isolated Output 9V 12V 18V Guitar P...</td>\n",
              "      <td>3</td>\n",
              "      <td>0</td>\n",
              "      <td>1</td>\n",
              "      <td>0</td>\n",
              "      <td>0</td>\n",
              "      <td>Three Stars</td>\n",
              "      <td>Works very good, but induces ALOT of noise.</td>\n",
              "      <td>2015-08-31</td>\n",
              "    </tr>\n",
              "    <tr>\n",
              "      <th>1</th>\n",
              "      <td>Sennheiser HD203 Closed-Back DJ Headphones</td>\n",
              "      <td>5</td>\n",
              "      <td>0</td>\n",
              "      <td>0</td>\n",
              "      <td>0</td>\n",
              "      <td>1</td>\n",
              "      <td>Five Stars</td>\n",
              "      <td>Nice headphones at a reasonable price.</td>\n",
              "      <td>2015-08-31</td>\n",
              "    </tr>\n",
              "    <tr>\n",
              "      <th>2</th>\n",
              "      <td>AudioQuest LP record clean brush</td>\n",
              "      <td>3</td>\n",
              "      <td>0</td>\n",
              "      <td>1</td>\n",
              "      <td>0</td>\n",
              "      <td>1</td>\n",
              "      <td>Three Stars</td>\n",
              "      <td>removes dust. does not clean</td>\n",
              "      <td>2015-08-31</td>\n",
              "    </tr>\n",
              "    <tr>\n",
              "      <th>3</th>\n",
              "      <td>Hohner Inc. 560BX-BF Special Twenty Harmonica</td>\n",
              "      <td>5</td>\n",
              "      <td>0</td>\n",
              "      <td>0</td>\n",
              "      <td>0</td>\n",
              "      <td>1</td>\n",
              "      <td>I purchase these for a friend in return for pl...</td>\n",
              "      <td>I purchase these for a friend in return for pl...</td>\n",
              "      <td>2015-08-31</td>\n",
              "    </tr>\n",
              "    <tr>\n",
              "      <th>4</th>\n",
              "      <td>Blue Yeti USB Microphone - Blackout Edition</td>\n",
              "      <td>5</td>\n",
              "      <td>0</td>\n",
              "      <td>0</td>\n",
              "      <td>0</td>\n",
              "      <td>1</td>\n",
              "      <td>Five Stars</td>\n",
              "      <td>This is an awesome mic!</td>\n",
              "      <td>2015-08-31</td>\n",
              "    </tr>\n",
              "  </tbody>\n",
              "</table>\n",
              "</div>"
            ],
            "text/plain": [
              "                                       product_title  ...  review_date\n",
              "0  AGPtek® 10 Isolated Output 9V 12V 18V Guitar P...  ...   2015-08-31\n",
              "1         Sennheiser HD203 Closed-Back DJ Headphones  ...   2015-08-31\n",
              "2                   AudioQuest LP record clean brush  ...   2015-08-31\n",
              "3      Hohner Inc. 560BX-BF Special Twenty Harmonica  ...   2015-08-31\n",
              "4        Blue Yeti USB Microphone - Blackout Edition  ...   2015-08-31\n",
              "\n",
              "[5 rows x 9 columns]"
            ]
          },
          "metadata": {
            "tags": []
          },
          "execution_count": 14
        }
      ]
    },
    {
      "cell_type": "code",
      "metadata": {
        "id": "mpsp4Wwk0UYP"
      },
      "source": [
        "df.drop(['product_title', 'helpful_votes','total_votes', 'vine', 'verified_purchase', 'review_date'], axis=1, inplace=True)"
      ],
      "execution_count": null,
      "outputs": []
    },
    {
      "cell_type": "code",
      "metadata": {
        "colab": {
          "base_uri": "https://localhost:8080/"
        },
        "id": "SkT3Ue8F1wvY",
        "outputId": "db5494d2-37c6-4800-e29d-9b42d107ceec"
      },
      "source": [
        "df.info()"
      ],
      "execution_count": null,
      "outputs": [
        {
          "output_type": "stream",
          "text": [
            "<class 'pandas.core.frame.DataFrame'>\n",
            "RangeIndex: 1000 entries, 0 to 999\n",
            "Data columns (total 3 columns):\n",
            " #   Column           Non-Null Count  Dtype \n",
            "---  ------           --------------  ----- \n",
            " 0   star_rating      1000 non-null   int64 \n",
            " 1   review_headline  1000 non-null   object\n",
            " 2   review_body      1000 non-null   object\n",
            "dtypes: int64(1), object(2)\n",
            "memory usage: 23.6+ KB\n"
          ],
          "name": "stdout"
        }
      ]
    },
    {
      "cell_type": "code",
      "metadata": {
        "colab": {
          "base_uri": "https://localhost:8080/",
          "height": 297
        },
        "id": "n1VbGtyB2Nl6",
        "outputId": "78bdfc8b-f15e-4f94-e8a3-5462f8f99dec"
      },
      "source": [
        "df.describe()"
      ],
      "execution_count": null,
      "outputs": [
        {
          "output_type": "execute_result",
          "data": {
            "text/html": [
              "<div>\n",
              "<style scoped>\n",
              "    .dataframe tbody tr th:only-of-type {\n",
              "        vertical-align: middle;\n",
              "    }\n",
              "\n",
              "    .dataframe tbody tr th {\n",
              "        vertical-align: top;\n",
              "    }\n",
              "\n",
              "    .dataframe thead th {\n",
              "        text-align: right;\n",
              "    }\n",
              "</style>\n",
              "<table border=\"1\" class=\"dataframe\">\n",
              "  <thead>\n",
              "    <tr style=\"text-align: right;\">\n",
              "      <th></th>\n",
              "      <th>star_rating</th>\n",
              "    </tr>\n",
              "  </thead>\n",
              "  <tbody>\n",
              "    <tr>\n",
              "      <th>count</th>\n",
              "      <td>1000.000000</td>\n",
              "    </tr>\n",
              "    <tr>\n",
              "      <th>mean</th>\n",
              "      <td>4.301000</td>\n",
              "    </tr>\n",
              "    <tr>\n",
              "      <th>std</th>\n",
              "      <td>1.232038</td>\n",
              "    </tr>\n",
              "    <tr>\n",
              "      <th>min</th>\n",
              "      <td>1.000000</td>\n",
              "    </tr>\n",
              "    <tr>\n",
              "      <th>25%</th>\n",
              "      <td>4.000000</td>\n",
              "    </tr>\n",
              "    <tr>\n",
              "      <th>50%</th>\n",
              "      <td>5.000000</td>\n",
              "    </tr>\n",
              "    <tr>\n",
              "      <th>75%</th>\n",
              "      <td>5.000000</td>\n",
              "    </tr>\n",
              "    <tr>\n",
              "      <th>max</th>\n",
              "      <td>5.000000</td>\n",
              "    </tr>\n",
              "  </tbody>\n",
              "</table>\n",
              "</div>"
            ],
            "text/plain": [
              "       star_rating\n",
              "count  1000.000000\n",
              "mean      4.301000\n",
              "std       1.232038\n",
              "min       1.000000\n",
              "25%       4.000000\n",
              "50%       5.000000\n",
              "75%       5.000000\n",
              "max       5.000000"
            ]
          },
          "metadata": {
            "tags": []
          },
          "execution_count": 17
        }
      ]
    },
    {
      "cell_type": "code",
      "metadata": {
        "colab": {
          "base_uri": "https://localhost:8080/",
          "height": 266
        },
        "id": "4AhIsNA524ds",
        "outputId": "5c3ee7d0-5eb1-4bfb-8a0e-31a13d6ae516"
      },
      "source": [
        "df.groupby('star_rating').describe()"
      ],
      "execution_count": null,
      "outputs": [
        {
          "output_type": "execute_result",
          "data": {
            "text/html": [
              "<div>\n",
              "<style scoped>\n",
              "    .dataframe tbody tr th:only-of-type {\n",
              "        vertical-align: middle;\n",
              "    }\n",
              "\n",
              "    .dataframe tbody tr th {\n",
              "        vertical-align: top;\n",
              "    }\n",
              "\n",
              "    .dataframe thead tr th {\n",
              "        text-align: left;\n",
              "    }\n",
              "\n",
              "    .dataframe thead tr:last-of-type th {\n",
              "        text-align: right;\n",
              "    }\n",
              "</style>\n",
              "<table border=\"1\" class=\"dataframe\">\n",
              "  <thead>\n",
              "    <tr>\n",
              "      <th></th>\n",
              "      <th colspan=\"4\" halign=\"left\">review_headline</th>\n",
              "      <th colspan=\"4\" halign=\"left\">review_body</th>\n",
              "    </tr>\n",
              "    <tr>\n",
              "      <th></th>\n",
              "      <th>count</th>\n",
              "      <th>unique</th>\n",
              "      <th>top</th>\n",
              "      <th>freq</th>\n",
              "      <th>count</th>\n",
              "      <th>unique</th>\n",
              "      <th>top</th>\n",
              "      <th>freq</th>\n",
              "    </tr>\n",
              "    <tr>\n",
              "      <th>star_rating</th>\n",
              "      <th></th>\n",
              "      <th></th>\n",
              "      <th></th>\n",
              "      <th></th>\n",
              "      <th></th>\n",
              "      <th></th>\n",
              "      <th></th>\n",
              "      <th></th>\n",
              "    </tr>\n",
              "  </thead>\n",
              "  <tbody>\n",
              "    <tr>\n",
              "      <th>1</th>\n",
              "      <td>79</td>\n",
              "      <td>60</td>\n",
              "      <td>One Star</td>\n",
              "      <td>20</td>\n",
              "      <td>79</td>\n",
              "      <td>77</td>\n",
              "      <td>Ok</td>\n",
              "      <td>2</td>\n",
              "    </tr>\n",
              "    <tr>\n",
              "      <th>2</th>\n",
              "      <td>36</td>\n",
              "      <td>30</td>\n",
              "      <td>Two Stars</td>\n",
              "      <td>7</td>\n",
              "      <td>36</td>\n",
              "      <td>36</td>\n",
              "      <td>My son says this oil is not a good product.  H...</td>\n",
              "      <td>1</td>\n",
              "    </tr>\n",
              "    <tr>\n",
              "      <th>3</th>\n",
              "      <td>71</td>\n",
              "      <td>49</td>\n",
              "      <td>Three Stars</td>\n",
              "      <td>22</td>\n",
              "      <td>71</td>\n",
              "      <td>70</td>\n",
              "      <td>Ok</td>\n",
              "      <td>2</td>\n",
              "    </tr>\n",
              "    <tr>\n",
              "      <th>4</th>\n",
              "      <td>133</td>\n",
              "      <td>101</td>\n",
              "      <td>Four Stars</td>\n",
              "      <td>33</td>\n",
              "      <td>133</td>\n",
              "      <td>133</td>\n",
              "      <td>Some days your favorite reed  just isn't your ...</td>\n",
              "      <td>1</td>\n",
              "    </tr>\n",
              "    <tr>\n",
              "      <th>5</th>\n",
              "      <td>681</td>\n",
              "      <td>398</td>\n",
              "      <td>Five Stars</td>\n",
              "      <td>273</td>\n",
              "      <td>681</td>\n",
              "      <td>645</td>\n",
              "      <td>GREAT SELLER PRODUCT WORKED GREAT</td>\n",
              "      <td>7</td>\n",
              "    </tr>\n",
              "  </tbody>\n",
              "</table>\n",
              "</div>"
            ],
            "text/plain": [
              "            review_headline  ... review_body\n",
              "                      count  ...        freq\n",
              "star_rating                  ...            \n",
              "1                        79  ...           2\n",
              "2                        36  ...           1\n",
              "3                        71  ...           2\n",
              "4                       133  ...           1\n",
              "5                       681  ...           7\n",
              "\n",
              "[5 rows x 8 columns]"
            ]
          },
          "metadata": {
            "tags": []
          },
          "execution_count": 18
        }
      ]
    },
    {
      "cell_type": "code",
      "metadata": {
        "id": "GNcWXUNdBR_Y"
      },
      "source": [
        "#import matplotlib for visualization \n",
        "\n",
        "import matplotlib.pyplot as plt\n",
        "\n",
        "%matplotlib inline"
      ],
      "execution_count": null,
      "outputs": []
    },
    {
      "cell_type": "code",
      "metadata": {
        "colab": {
          "base_uri": "https://localhost:8080/",
          "height": 282
        },
        "id": "2y9K9QMrBdM_",
        "outputId": "1a4d19ba-5bcd-454a-fb89-1ea742936c1b"
      },
      "source": [
        "#Visualizing the frequency of each star rating (overwhelming amount of 5 star ratings)\n",
        "\n",
        "df['star_rating'].plot(bins=50, kind='hist')"
      ],
      "execution_count": null,
      "outputs": [
        {
          "output_type": "execute_result",
          "data": {
            "text/plain": [
              "<matplotlib.axes._subplots.AxesSubplot at 0x7fbcd3145c10>"
            ]
          },
          "metadata": {
            "tags": []
          },
          "execution_count": 20
        },
        {
          "output_type": "display_data",
          "data": {
            "image/png": "[encoded data removed]",
            "text/plain": [
              "<Figure size 432x288 with 1 Axes>"
            ]
          },
          "metadata": {
            "tags": [],
            "needs_background": "light"
          }
        }
      ]
    },
    {
      "cell_type": "code",
      "metadata": {
        "colab": {
          "base_uri": "https://localhost:8080/"
        },
        "id": "9_P3TLVU_FUz",
        "outputId": "77fcceba-47ba-41b3-b294-6d4c94c0d820"
      },
      "source": [
        "# Numerical representation of the star ratings available (Overwhelmingly large number of positive reviews)\n",
        "df['star_rating'].value_counts()"
      ],
      "execution_count": null,
      "outputs": [
        {
          "output_type": "execute_result",
          "data": {
            "text/plain": [
              "5    681\n",
              "4    133\n",
              "1     79\n",
              "3     71\n",
              "2     36\n",
              "Name: star_rating, dtype: int64"
            ]
          },
          "metadata": {
            "tags": []
          },
          "execution_count": 36
        }
      ]
    },
    {
      "cell_type": "code",
      "metadata": {
        "colab": {
          "base_uri": "https://localhost:8080/",
          "height": 130
        },
        "id": "fR8VZ00uGEKK",
        "outputId": "35bedbd9-28a3-4fd1-c904-acba1ef50a85"
      },
      "source": [
        "df[‘star_rating’] = df[‘star_rating’].map({ 5 : ‘positive’, 2 : ‘negative’})\n",
        "data.sample(3)"
      ],
      "execution_count": null,
      "outputs": [
        {
          "output_type": "error",
          "ename": "SyntaxError",
          "evalue": "ignored",
          "traceback": [
            "\u001b[0;36m  File \u001b[0;32m\"<ipython-input-39-212f45a1ef5d>\"\u001b[0;36m, line \u001b[0;32m1\u001b[0m\n\u001b[0;31m    df[‘star_rating’] = df[‘star_rating’].map({ 5 : ‘positive’, 2 : ‘negative’})\u001b[0m\n\u001b[0m                   ^\u001b[0m\n\u001b[0;31mSyntaxError\u001b[0m\u001b[0;31m:\u001b[0m invalid character in identifier\n"
          ]
        }
      ]
    },
    {
      "cell_type": "code",
      "metadata": {
        "id": "2KnokbfJGey8"
      },
      "source": [
        "import tensorflow as tf\n",
        "import numpy as np"
      ],
      "execution_count": null,
      "outputs": []
    }
  ]
}